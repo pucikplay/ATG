{
 "cells": [
  {
   "cell_type": "markdown",
   "metadata": {},
   "source": [
    "### Treść\n",
    "Za siedmioma górami, za siedmioma pustyniami, w królestwie zwierzżt, król Skaza i kandydat na króla – Simba, biorą udział w pisemnym konkursie.  Podług bardzo rzetelnego obserwatora tj. Drzewa Życia, Skaza powinien dostać 49 punktów, a Simba – 51. Niestety, obserwator nie jest obywatelem królestwa zwierząt i nie może wybierać za nich. Dlatego o wygraniu konkursu mają zadecydować srednie oceny kandydatów dokonanywane przez zwierzęcych wyborców. Wygrywa ten kandydat, który osiągnie większą srednią ocen wśród wyborców. Wiadomo, że 15% zwierząt jest inteligentne. Podobnie, 15% zwierząt jest nierozsądnych. Pozostałe zwierzęta nazwijmy przeciętnymi. Wiadomo, ze wariancje ocen dokonywanych przez zwierzęcych wyborców róznią się tylko ze względu na powyższą klasyfikację inteligencji. Dla inteligentnego zwierzęcia, błąd popełniany względem oceny Drzewa życia to zmienna losowa o rozkładzie zgodnym z X, dla przeciętnego – ze zmienną Y, a nierozsądnego – ze zmienną Z. Zakładamy, że X, Y, Z mają niezalezne rozkłady normalne, o wspólnej średniej 0, oraz wariancjach: $Var(X) = 1$, $Var(Y) = 4$ i $Var(Z) = 9$, a ponadto wiemy, ze wszystkie zwierzęta kazdą ocenę przeprowadzają niezależnie od innych ocen (tak że tych innych zwierząt). Początkowo tylko 10 zwierząt wie o wyborach i planuje oceniać prace kandydatów. Są wsród nich 2 zwierzęta inteligentne, 6 przeciętnych i 2 nierozsądne."
   ]
  },
  {
   "cell_type": "markdown",
   "metadata": {},
   "source": [
    "a) Niech $N_1 = N(0, \\sigma_1), N_2 = N(0, \\sigma_2)$, będą niezaleznymi zmiennymi losowymi. Jaki rozkład ma $N_1 + N_2$?\n",
    "\n",
    "Z własności rozkładu normalnego $N_1 + N_2 = N(\\mu_1 + \\mu_2, \\sigma_1 + \\sigma_2) = N(0, \\sigma_1 + \\sigma_2)$"
   ]
  },
  {
   "cell_type": "markdown",
   "metadata": {},
   "source": [
    "b) Jakie rozkłady mają zmienne opisujące sumy ocen od 10 początkowych wyborców (liczone osobno dla Skazy i Simby)? \n",
    "A jaki rozkład ma różnica tych sum?\n",
    "Jaki rozkład ma różnica srednich ocen dla poszczególnych kandydatów?\n",
    "\n",
    "Z faktu z a) mamy:\n",
    "\n",
    "$N_{Skaza} = N(49 * 10, 1 * 2 + 4 * 6 + 2 * 9) = N(490, 44)$\n",
    "\n",
    "$N_{Simba} = N(51 * 10, 1 * 2 + 4 * 6 + 2 * 9) = N(510, 44)$\n",
    "\n",
    "Ustalmy $R = N_{Simba} - N_{Skaza} = N_{Simba} + (-N_{Skaza})$\n",
    "\n",
    "Jako, że $N_{Skaza}$ ma rozkład normalny, to po negacji wariancja się nie zmienia: $-N_{Skaza} \\sim N(-490,44)$, czyli dalej z faktu a)\n",
    "\n",
    "$N_{Simba} + (-N_{Skaza}) = N(20, 88)$\n",
    "\n",
    "Średnie ocen to oczywiście $A_{Simba} = N_{Simba}/10$, $A_{Skaza} = N_{Skaza}/10$. Dalej mamy\n",
    "\n",
    "$A_{Simba} \\sim N(\\frac{1}{10} \\cdot 510, (\\frac{1}{10})^2 \\cdot 44) = (51, 0.44)$\n",
    "$A_{Skaza} \\sim N(\\frac{1}{10} \\cdot 490, (\\frac{1}{10})^2 \\cdot 44) = (49, 0.44)$\n",
    "\n",
    "I w końcu\n",
    "\n",
    "$N_{Simba} - N_{Skaza} = N(2,0.88)$"
   ]
  },
  {
   "cell_type": "markdown",
   "metadata": {},
   "source": [
    "c) Jakie jest prawdopodobieństwo, ze przy wskazanych 10 wyborcach, Skaza wygra wybory (będzie miał większą srednią ocen)?\n",
    "\n",
    "Wskazówka: Znormalizuj odpowiednią zmienną i skorzystaj z tablicy dystrybuanty standardowego rozkładu normalnego $N(0, 1)$.\n",
    "\n",
    "Prawdopodobieństwo zwycięzcy Skazy to $P(S_{Simba} - S_{Skaza} < 0) = P(R < 0)$\n",
    "\n",
    "Wprowadźmy $R' = aR + b, R' \\sim N(0,1)$, znormalizowaną zmienną $R$. Policzmy $a$ i $b$.\n",
    "\n",
    "$E[aR + b] = 0 \\implies aE[R] + b = 0 \\implies b = -aE[R]$\n",
    "\n",
    "$Var[aR + b] = 1 \\implies a^2Var[R] = 1 \\implies a = \\frac{1}{\\sqrt{Var[R]}}$\n",
    "\n",
    "$a = \\frac{1}{\\sqrt{88}} = \\frac{1}{2\\sqrt{22}}$\n",
    "\n",
    "$b = \\frac{20}{2\\sqrt{22}} = \\frac{10}{\\sqrt{22}}$\n",
    "\n",
    "$P(R < 0) = P(\\frac{R' - b}{a} < 0) = P(R' - b < 0) = P(R' < b) = P(R' < -\\frac{10}{\\sqrt{22}}) \\approx P(R' < -2.132)$\n",
    "\n",
    "Z tablic mamy, że $P(X < -2.13) = 0.01659$"
   ]
  },
  {
   "cell_type": "markdown",
   "metadata": {},
   "source": [
    "d) Kapituła konkursowa rozwaza kilka strategii reklamy wyborów, aby zwiększyć liczbę wyborców. Liczbę nowych wyborców danego typu w zależnoci od wybranego typu reklamy, przedstawia poniższa tabela:\n",
    "$$\n",
    "\\begin{array}{c|c|c|c|c}\n",
    "\\text{Reklama} & \\text{brak} & \\text{hieny} & \\text{poczta Zazu} & \\text{zebranie u Rafikiego}\\\\\\hline\\hline\n",
    "\\text{Inteligentne} & +0 & +0 & +3 & +9\\\\\n",
    "\\text{Przeciętne} & +0 & +10 & +12 & +1\\\\\n",
    "\\text{Nierozsądne} & +0 & +10 & +5 & +0\\\\\n",
    "\\end{array}\n",
    "$$\n",
    "Ponadto Skaza ma dwie strategie: przekonać 5 nowych nierozsądnych wyborców albo nie mówić nikomu więcej o\n",
    "wyborach.\n",
    "Wypłata Skazy to prawdopodobieństwo wygrania konkursu przez niego, a Kapituły (reprezentującej całe królestwo\n",
    "zwierząt) – prawdopodobieństwo wyborów zgodnych z rzetelną oceną Drzewa Zycia (czyli wygranej Simby).\n",
    "Przedstaw grę między Skazą, a Kapitułą w postaci macierzowej (jedna komórka wynika z poprzedniego podpunktu).\n",
    "\n",
    "Macież liczby wyborców:\n",
    "\n",
    "$$\n",
    "\\begin{array}{c|c|c|c|c}\n",
    "\\text{Reklama} & \\text{brak} & \\text{hieny} & \\text{poczta Zazu} & \\text{zebranie u Rafikiego}\\\\\\hline\\hline\n",
    "\\text{Inteligentne} & +0 & +0 & +3 & +9\\\\\n",
    "\\text{Przeciętne} & +0 & +10 & +12 & +1\\\\\n",
    "\\text{Nierozsądne} & +0 & +10 & +5 & +0\\\\\n",
    "\\end{array}\n",
    "$$"
   ]
  },
  {
   "cell_type": "markdown",
   "metadata": {},
   "source": [
    "e) Znajdź równowagi Nasha dla tej gry.\n",
    "\n",
    "Nie ma takich, niezależnie od której strategii rozpoczniemy, odpowiadjąc na nie wpadniemy w cykl:\n",
    "\n",
    "$Brak \\rightarrow Cisza \\rightarrow Rafiki \\rightarrow Manipulacja \\rightarrow Zazu \\rightarrow Cisza \\rightarrow \\dots$\n",
    "\n",
    "$Hieny \\rightarrow Cisza \\rightarrow \\dots$"
   ]
  },
  {
   "cell_type": "markdown",
   "metadata": {},
   "source": [
    "f) Co charakteryzuje grupę, która zwiększa uczciwość wyborców?"
   ]
  }
 ],
 "metadata": {
  "language_info": {
   "name": "python"
  }
 },
 "nbformat": 4,
 "nbformat_minor": 2
}
